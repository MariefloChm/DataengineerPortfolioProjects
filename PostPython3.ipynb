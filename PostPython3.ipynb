{
 "cells": [
  {
   "cell_type": "code",
   "execution_count": 1,
   "id": "cee3f599",
   "metadata": {},
   "outputs": [],
   "source": [
    "import pandas as pd\n",
    "import numpy as np\n",
    "from sklearn.model_selection import train_test_split\n",
    "from sklearn.linear_model import LinearRegression\n",
    "from sklearn.metrics import mean_squared_error\n",
    "import matplotlib.pyplot as plt\n"
   ]
  },
  {
   "cell_type": "code",
   "execution_count": 2,
   "id": "332512ef",
   "metadata": {
    "scrolled": true
   },
   "outputs": [],
   "source": [
    "# Chargeons les données\n",
    "data = pd.read_csv(\"C:/Users/mfcho/OneDrive/Documents/Data Engeneering/projetpython2/france_total_real_estate_sales_2022.csv\", \n",
    "                   dtype={'Commune': 'str', 'Code postal': 'str'}, \n",
    "                   low_memory=False)"
   ]
  },
  {
   "cell_type": "code",
   "execution_count": 3,
   "id": "e3faa14d",
   "metadata": {
    "scrolled": true
   },
   "outputs": [
    {
     "name": "stdout",
     "output_type": "stream",
     "text": [
      "0      55000,00\n",
      "1     143000,00\n",
      "2     143000,00\n",
      "3     143000,00\n",
      "4        300,00\n",
      "5     255000,00\n",
      "6     255000,00\n",
      "7     525000,00\n",
      "8     525000,00\n",
      "9     525000,00\n",
      "10    254200,00\n",
      "11     64000,00\n",
      "12     64000,00\n",
      "13    140000,00\n",
      "14    140000,00\n",
      "15    140000,00\n",
      "16    140000,00\n",
      "17    134000,00\n",
      "18    134000,00\n",
      "19    134000,00\n",
      "Name: Valeur fonciere, dtype: object\n"
     ]
    }
   ],
   "source": [
    "# Afficher les 20 premières valeurs de la colonne 'Valeur fonciere'\n",
    "print(data['Valeur fonciere'].head(20))"
   ]
  },
  {
   "cell_type": "code",
   "execution_count": 4,
   "id": "5de0ba52",
   "metadata": {},
   "outputs": [
    {
     "name": "stdout",
     "output_type": "stream",
     "text": [
      "NaN après conversion dans 'Valeur fonciere': 24721\n"
     ]
    }
   ],
   "source": [
    "# Remplacer les virgules par des points dans la colonne 'Valeur fonciere'\n",
    "data['Valeur fonciere'] = data['Valeur fonciere'].str.replace(',', '.', regex=False)\n",
    "\n",
    "\n",
    "# Convertir la colonne en numérique\n",
    "data['Valeur fonciere'] = pd.to_numeric(data['Valeur fonciere'], errors='coerce')\n",
    "\n",
    "# Vérifier si des NaN persistent\n",
    "print(\"NaN après conversion dans 'Valeur fonciere':\", data['Valeur fonciere'].isna().sum())\n",
    "\n",
    "#des NaN persistent après la conversion, remplissons les avec la moyenne des valeurs.\n",
    "data['Valeur fonciere'] = data['Valeur fonciere'].fillna(data['Valeur fonciere'].mean())\n",
    "\n",
    "# Sélectionner les colonnes numériques uniquement pour le calcul des moyennes\n",
    "numerical_features = ['Surface reelle bati', 'Nombre pieces principales', 'Surface terrain']\n",
    "\n",
    "# Remplir les NaN dans les colonnes numériques\n",
    "for feature in numerical_features:\n",
    "    data[feature] = data[feature].fillna(data[feature].mean())\n"
   ]
  },
  {
   "cell_type": "code",
   "execution_count": 5,
   "id": "4527ceb7",
   "metadata": {},
   "outputs": [],
   "source": [
    " #Ajouter de nouvelles caractéristiques pour enrichir le modèle\n",
    "data['Densite_bati'] = data['Surface reelle bati'] / data['Surface terrain']\n",
    "data['Rapport_pieces_surface'] = data['Nombre pieces principales'] / data['Surface reelle bati']"
   ]
  },
  {
   "cell_type": "code",
   "execution_count": 6,
   "id": "1c035991",
   "metadata": {},
   "outputs": [
    {
     "name": "stdout",
     "output_type": "stream",
     "text": [
      "NaN après conversion dans 'Valeur fonciere': 0\n"
     ]
    }
   ],
   "source": [
    "# Vérifier si des NaN persistent\n",
    "print(\"NaN après conversion dans 'Valeur fonciere':\", data['Valeur fonciere'].isna().sum())"
   ]
  },
  {
   "cell_type": "code",
   "execution_count": 7,
   "id": "e49892fd",
   "metadata": {},
   "outputs": [],
   "source": [
    "# Sélectionner uniquement les colonnes numériques pour X\n",
    "X = data[['Surface reelle bati', 'Nombre pieces principales', 'Surface terrain', 'Densite_bati', 'Rapport_pieces_surface']]\n",
    "\n",
    "# Variable cible (Valeur fonciere)\n",
    "y = data['Valeur fonciere']"
   ]
  },
  {
   "cell_type": "code",
   "execution_count": 8,
   "id": "bb3b3b6a",
   "metadata": {},
   "outputs": [],
   "source": [
    "# Séparation des données en ensembles d'entraînement et de test\n",
    "X_train, X_test, y_train, y_test = train_test_split(X, y, test_size=0.2, random_state=42)\n"
   ]
  },
  {
   "cell_type": "code",
   "execution_count": 9,
   "id": "e38a6abd",
   "metadata": {},
   "outputs": [
    {
     "name": "stdout",
     "output_type": "stream",
     "text": [
      "NaN dans X_train : 809004\n",
      "NaN dans y_train : 0\n"
     ]
    }
   ],
   "source": [
    "# Vérifier les NaN dans les ensembles d'entraînement et de test\n",
    "print(\"NaN dans X_train :\", X_train.isna().sum().sum())\n",
    "print(\"NaN dans y_train :\", y_train.isna().sum())"
   ]
  },
  {
   "cell_type": "code",
   "execution_count": 10,
   "id": "dc2e5cae",
   "metadata": {},
   "outputs": [
    {
     "name": "stdout",
     "output_type": "stream",
     "text": [
      "Rapport_pieces_surface       2.658470e-01\n",
      "Densite_bati                 9.858342e-07\n",
      "Surface reelle bati          0.000000e+00\n",
      "Nombre pieces principales    0.000000e+00\n",
      "Surface terrain              0.000000e+00\n",
      "dtype: float64\n"
     ]
    }
   ],
   "source": [
    "# Vérifier le pourcentage de valeurs manquantes dans chaque colonne\n",
    "missing_values = X_train.isna().mean().sort_values(ascending=False)\n",
    "print(missing_values)"
   ]
  },
  {
   "cell_type": "code",
   "execution_count": 11,
   "id": "53d5d4e9",
   "metadata": {},
   "outputs": [],
   "source": [
    "# Remplir les valeurs manquantes avec la moyenne des colonnes\n",
    "X_train_cleaned = X_train.fillna(X_train.mean())\n"
   ]
  },
  {
   "cell_type": "code",
   "execution_count": 12,
   "id": "d663517b",
   "metadata": {},
   "outputs": [
    {
     "name": "stdout",
     "output_type": "stream",
     "text": [
      "NaN après nettoyage dans X_train_cleaned : 0\n"
     ]
    }
   ],
   "source": [
    "# Vérification des NaN après nettoyage\n",
    "print(\"NaN après nettoyage dans X_train_cleaned :\", X_train_cleaned.isna().sum().sum())\n"
   ]
  },
  {
   "cell_type": "code",
   "execution_count": 13,
   "id": "7dd61c13",
   "metadata": {},
   "outputs": [
    {
     "name": "stdout",
     "output_type": "stream",
     "text": [
      "Taille de X_train_final: (3043108, 5)\n",
      "Taille de y_train_final: (3043108,)\n"
     ]
    }
   ],
   "source": [
    "# Combiner X_train_cleaned et y_train pour supprimer les lignes avec des NaN dans les deux\n",
    "combined = pd.concat([X_train_cleaned, y_train], axis=1).dropna()\n",
    "\n",
    "# Séparer à nouveau les caractéristiques et la cible\n",
    "X_train_final = combined.drop(columns=['Valeur fonciere'])\n",
    "y_train_final = combined['Valeur fonciere']\n",
    "\n",
    "# Vérifier les dimensions pour s'assurer qu'elles correspondent\n",
    "print(f\"Taille de X_train_final: {X_train_final.shape}\")\n",
    "print(f\"Taille de y_train_final: {y_train_final.shape}\")\n"
   ]
  },
  {
   "cell_type": "code",
   "execution_count": 14,
   "id": "2e71eb47",
   "metadata": {},
   "outputs": [],
   "source": [
    "# Recréons l'ensemble d'entraînement et de test\n",
    "X_train_final, X_test_final, y_train_final, y_test_final = train_test_split(X_train_final, y_train_final, test_size=0.2, random_state=42)"
   ]
  },
  {
   "cell_type": "code",
   "execution_count": 15,
   "id": "5e17f2c2",
   "metadata": {},
   "outputs": [
    {
     "name": "stdout",
     "output_type": "stream",
     "text": [
      "NaN dans X_train_final : 0\n",
      "Infinités dans X_train_final : 44\n",
      "NaN dans y_train_final : 0\n",
      "Infinités dans y_train_final : 0\n"
     ]
    }
   ],
   "source": [
    "# Vérifier les NaN et les valeurs infinies dans X_train_final\n",
    "print(\"NaN dans X_train_final :\", X_train_final.isna().sum().sum())\n",
    "print(\"Infinités dans X_train_final :\", np.isinf(X_train_final).sum().sum())\n",
    "\n",
    "# Vérifier les NaN et les valeurs infinies dans y_train_final\n",
    "print(\"NaN dans y_train_final :\", y_train_final.isna().sum())\n",
    "print(\"Infinités dans y_train_final :\", np.isinf(y_train_final).sum())\n"
   ]
  },
  {
   "cell_type": "code",
   "execution_count": 16,
   "id": "e99f925e",
   "metadata": {},
   "outputs": [],
   "source": [
    "# Remplacer les valeurs infinies par NaN pour pouvoir les traiter\n",
    "X_train_final.replace([np.inf, -np.inf], np.nan, inplace=True)\n",
    "\n",
    "# Remplir les NaN (anciennement inf) par la moyenne des colonnes\n",
    "X_train_final = X_train_final.fillna(X_train_final.mean())\n"
   ]
  },
  {
   "cell_type": "code",
   "execution_count": 17,
   "id": "41650769",
   "metadata": {},
   "outputs": [
    {
     "name": "stdout",
     "output_type": "stream",
     "text": [
      "Infinités après traitement dans X_train_final : 0\n",
      "NaN après traitement dans X_train_final : 0\n"
     ]
    }
   ],
   "source": [
    "# Vérification post-traitement\n",
    "print(\"Infinités après traitement dans X_train_final :\", np.isinf(X_train_final).sum().sum())\n",
    "print(\"NaN après traitement dans X_train_final :\", X_train_final.isna().sum().sum())\n"
   ]
  },
  {
   "cell_type": "code",
   "execution_count": 18,
   "id": "a07c5e5b",
   "metadata": {},
   "outputs": [
    {
     "data": {
      "text/plain": [
       "LinearRegression()"
      ]
     },
     "execution_count": 18,
     "metadata": {},
     "output_type": "execute_result"
    }
   ],
   "source": [
    "# Création et entraînement du modèle de régression linéaire\n",
    "model = LinearRegression()\n",
    "model.fit(X_train_final, y_train_final)"
   ]
  },
  {
   "cell_type": "code",
   "execution_count": 32,
   "id": "8245282e",
   "metadata": {},
   "outputs": [],
   "source": [
    "# Prédiction des valeurs foncières sur l'ensemble de test\n",
    "y_pred = model.predict(X_train_final)"
   ]
  },
  {
   "cell_type": "code",
   "execution_count": 33,
   "id": "7a0a10fb",
   "metadata": {},
   "outputs": [
    {
     "name": "stdout",
     "output_type": "stream",
     "text": [
      "RMSE: 5969437.384987731\n"
     ]
    }
   ],
   "source": [
    "# Évaluation du modèle avec RMSE\n",
    "rmse = mean_squared_error(y_train_final, y_pred, squared=False)\n",
    "print(f\"RMSE: {rmse}\")"
   ]
  },
  {
   "cell_type": "code",
   "execution_count": 34,
   "id": "1d0a73fb",
   "metadata": {},
   "outputs": [
    {
     "data": {
      "image/png": "[encoded data removed]",
      "text/plain": [
       "<Figure size 800x800 with 1 Axes>"
      ]
     },
     "metadata": {},
     "output_type": "display_data"
    }
   ],
   "source": [
    "# Créer un graphique pour visualiser les prédictions vs les valeurs réelles\n",
    "plt.figure(figsize=(8, 8))\n",
    "plt.scatter(y_train_final, y_pred, alpha=0.3, label=\"Prédictions\", color='blue')\n",
    "plt.plot([min(y_train_final), max(y_train_final)], [min(y_train_final), max(y_train_final)], \n",
    "         color=\"red\", label=\"Ligne idéale (y=x)\")\n",
    "plt.xlabel(\"Valeurs Réelles\")\n",
    "plt.ylabel(\"Prédictions\")\n",
    "plt.title(\"Prédictions vs Valeurs Réelles\")\n",
    "plt.legend()\n",
    "plt.grid(True)\n",
    "plt.show()\n"
   ]
  },
  {
   "cell_type": "code",
   "execution_count": 27,
   "id": "895ee0f2",
   "metadata": {},
   "outputs": [
    {
     "name": "stdout",
     "output_type": "stream",
     "text": [
      "Collecting xgboost\n",
      "  Downloading xgboost-2.1.3-py3-none-win_amd64.whl (124.9 MB)\n",
      "     -------------------------------------- 124.9/124.9 MB 2.8 MB/s eta 0:00:00\n",
      "Requirement already satisfied: numpy in c:\\anaconda\\lib\\site-packages (from xgboost) (1.21.5)\n",
      "Requirement already satisfied: scipy in c:\\anaconda\\lib\\site-packages (from xgboost) (1.9.1)\n",
      "Installing collected packages: xgboost\n",
      "Successfully installed xgboost-2.1.3\n",
      "Note: you may need to restart the kernel to use updated packages.\n"
     ]
    }
   ],
   "source": [
    "pip install xgboost\n"
   ]
  },
  {
   "cell_type": "code",
   "execution_count": 39,
   "id": "c2077a3e",
   "metadata": {},
   "outputs": [
    {
     "name": "stdout",
     "output_type": "stream",
     "text": [
      "RMSE avec XGBoost: 5435926.695802487\n"
     ]
    }
   ],
   "source": [
    "from xgboost import XGBRegressor\n",
    "from sklearn.metrics import mean_squared_error\n",
    "# Créer et entraîner un modèle XGBoost\n",
    "xgb_model = XGBRegressor(random_state=42, n_estimators=100, learning_rate=0.1)\n",
    "xgb_model.fit(X_train_final, y_train_final)\n",
    "\n",
    "# Prédictions avec XGBoost\n",
    "y_pred_xgb = xgb_model.predict(X_test_final)\n",
    "\n",
    "# Évaluation du modèle XGBoost avec RMSE\n",
    "rmse_xgb = mean_squared_error(y_test_final, y_pred_xgb, squared=False)\n",
    "print(f\"RMSE avec XGBoost: {rmse_xgb}\")"
   ]
  },
  {
   "cell_type": "code",
   "execution_count": 35,
   "id": "fd781850",
   "metadata": {},
   "outputs": [
    {
     "name": "stdout",
     "output_type": "stream",
     "text": [
      "Dimension de y_test_final : 608622\n",
      "Dimension de y_pred : 2434486\n"
     ]
    }
   ],
   "source": [
    "# Vérifions les dimensions des deux séries\n",
    "print(f\"Dimension de y_test_final : {len(y_test_final)}\")\n",
    "print(f\"Dimension de y_pred : {len(y_pred)}\")\n"
   ]
  },
  {
   "cell_type": "code",
   "execution_count": 37,
   "id": "a2415b9a",
   "metadata": {},
   "outputs": [
    {
     "name": "stdout",
     "output_type": "stream",
     "text": [
      "Dimension de X_test_final : 608622\n"
     ]
    }
   ],
   "source": [
    "# Vérifions la taille de X_test_final\n",
    "print(f\"Dimension de X_test_final : {len(X_test_final)}\")"
   ]
  },
  {
   "cell_type": "code",
   "execution_count": 40,
   "id": "79c689e8",
   "metadata": {},
   "outputs": [],
   "source": [
    "# Assurons-nous que le processus de création des ensembles est cohérent\n",
    "\n",
    "X_train_final, X_test_final, y_train_final, y_test_final = train_test_split(\n",
    "    X_train_final, y_train_final, test_size=0.2, random_state=42\n",
    ")"
   ]
  },
  {
   "cell_type": "code",
   "execution_count": 42,
   "id": "fa9a62bb",
   "metadata": {},
   "outputs": [],
   "source": [
    "# Reprenons la prédiction\n",
    "y_pred = model.predict(X_test_final)\n"
   ]
  },
  {
   "cell_type": "code",
   "execution_count": 43,
   "id": "76366379",
   "metadata": {},
   "outputs": [
    {
     "name": "stdout",
     "output_type": "stream",
     "text": [
      "Dimension recalculée de y_pred : 486898\n"
     ]
    }
   ],
   "source": [
    "# verifions à nouveau les dimensions \n",
    "print(f\"Dimension recalculée de y_pred : {len(y_pred)}\")\n"
   ]
  },
  {
   "cell_type": "code",
   "execution_count": 44,
   "id": "a424f574",
   "metadata": {},
   "outputs": [
    {
     "data": {
      "image/png": "[encoded data removed]",
      "text/plain": [
       "<Figure size 1000x600 with 1 Axes>"
      ]
     },
     "metadata": {},
     "output_type": "display_data"
    }
   ],
   "source": [
    "# Visualisons les résidus\n",
    "import matplotlib.pyplot as plt\n",
    "residuals = y_test_final - y_pred\n",
    "plt.figure(figsize=(10, 6))\n",
    "plt.scatter(y_pred, residuals, alpha=0.5)\n",
    "plt.axhline(y=0, color='r', linestyle='--', label='Résidu = 0')\n",
    "plt.xlabel(\"Valeurs prédites\")\n",
    "plt.ylabel(\"Résidus\")\n",
    "plt.title(\"Analyse des Résidus\")\n",
    "plt.legend()\n",
    "plt.show()"
   ]
  },
  {
   "cell_type": "markdown",
   "id": "0dd52fa4",
   "metadata": {},
   "source": []
  }
 ],
 "metadata": {
  "kernelspec": {
   "display_name": "Python 3 (ipykernel)",
   "language": "python",
   "name": "python3"
  },
  "language_info": {
   "codemirror_mode": {
    "name": "ipython",
    "version": 3
   },
   "file_extension": ".py",
   "mimetype": "text/x-python",
   "name": "python",
   "nbconvert_exporter": "python",
   "pygments_lexer": "ipython3",
   "version": "3.9.13"
  }
 },
 "nbformat": 4,
 "nbformat_minor": 5
}
