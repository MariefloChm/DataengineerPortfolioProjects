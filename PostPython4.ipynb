{
 "cells": [
  {
   "cell_type": "code",
   "execution_count": 1,
   "id": "4ba65a70",
   "metadata": {},
   "outputs": [
    {
     "name": "stdout",
     "output_type": "stream",
     "text": [
      "Requirement already satisfied: pandas in c:\\users\\mfcho\\onedrive\\documents\\data engeneering\\projetpython2\\.venv\\lib\\site-packages (2.2.3)\n",
      "Requirement already satisfied: numpy>=1.22.4 in c:\\users\\mfcho\\onedrive\\documents\\data engeneering\\projetpython2\\.venv\\lib\\site-packages (from pandas) (1.26.4)\n",
      "Requirement already satisfied: python-dateutil>=2.8.2 in c:\\users\\mfcho\\onedrive\\documents\\data engeneering\\projetpython2\\.venv\\lib\\site-packages (from pandas) (2.9.0.post0)\n",
      "Requirement already satisfied: pytz>=2020.1 in c:\\users\\mfcho\\onedrive\\documents\\data engeneering\\projetpython2\\.venv\\lib\\site-packages (from pandas) (2024.2)\n",
      "Requirement already satisfied: tzdata>=2022.7 in c:\\users\\mfcho\\onedrive\\documents\\data engeneering\\projetpython2\\.venv\\lib\\site-packages (from pandas) (2024.2)\n",
      "Requirement already satisfied: six>=1.5 in c:\\users\\mfcho\\onedrive\\documents\\data engeneering\\projetpython2\\.venv\\lib\\site-packages (from python-dateutil>=2.8.2->pandas) (1.17.0)\n",
      "Note: you may need to restart the kernel to use updated packages.\n"
     ]
    }
   ],
   "source": [
    "pip install pandas"
   ]
  },
  {
   "cell_type": "code",
   "execution_count": 2,
   "id": "da0a1e71",
   "metadata": {},
   "outputs": [
    {
     "name": "stdout",
     "output_type": "stream",
     "text": [
      "Requirement already satisfied: matplotlib in c:\\users\\mfcho\\onedrive\\documents\\data engeneering\\projetpython2\\.venv\\lib\\site-packages (3.9.4)\n",
      "Requirement already satisfied: contourpy>=1.0.1 in c:\\users\\mfcho\\onedrive\\documents\\data engeneering\\projetpython2\\.venv\\lib\\site-packages (from matplotlib) (1.3.0)\n",
      "Requirement already satisfied: cycler>=0.10 in c:\\users\\mfcho\\onedrive\\documents\\data engeneering\\projetpython2\\.venv\\lib\\site-packages (from matplotlib) (0.12.1)\n",
      "Requirement already satisfied: fonttools>=4.22.0 in c:\\users\\mfcho\\onedrive\\documents\\data engeneering\\projetpython2\\.venv\\lib\\site-packages (from matplotlib) (4.55.3)\n",
      "Requirement already satisfied: kiwisolver>=1.3.1 in c:\\users\\mfcho\\onedrive\\documents\\data engeneering\\projetpython2\\.venv\\lib\\site-packages (from matplotlib) (1.4.7)\n",
      "Requirement already satisfied: numpy>=1.23 in c:\\users\\mfcho\\onedrive\\documents\\data engeneering\\projetpython2\\.venv\\lib\\site-packages (from matplotlib) (1.26.4)\n",
      "Requirement already satisfied: packaging>=20.0 in c:\\users\\mfcho\\onedrive\\documents\\data engeneering\\projetpython2\\.venv\\lib\\site-packages (from matplotlib) (24.2)\n",
      "Requirement already satisfied: pillow>=8 in c:\\users\\mfcho\\onedrive\\documents\\data engeneering\\projetpython2\\.venv\\lib\\site-packages (from matplotlib) (11.1.0)\n",
      "Requirement already satisfied: pyparsing>=2.3.1 in c:\\users\\mfcho\\onedrive\\documents\\data engeneering\\projetpython2\\.venv\\lib\\site-packages (from matplotlib) (3.2.1)\n",
      "Requirement already satisfied: python-dateutil>=2.7 in c:\\users\\mfcho\\onedrive\\documents\\data engeneering\\projetpython2\\.venv\\lib\\site-packages (from matplotlib) (2.9.0.post0)\n",
      "Requirement already satisfied: importlib-resources>=3.2.0 in c:\\users\\mfcho\\onedrive\\documents\\data engeneering\\projetpython2\\.venv\\lib\\site-packages (from matplotlib) (6.5.2)\n",
      "Requirement already satisfied: zipp>=3.1.0 in c:\\users\\mfcho\\onedrive\\documents\\data engeneering\\projetpython2\\.venv\\lib\\site-packages (from importlib-resources>=3.2.0->matplotlib) (3.21.0)\n",
      "Requirement already satisfied: six>=1.5 in c:\\users\\mfcho\\onedrive\\documents\\data engeneering\\projetpython2\\.venv\\lib\\site-packages (from python-dateutil>=2.7->matplotlib) (1.17.0)\n",
      "Note: you may need to restart the kernel to use updated packages.\n"
     ]
    }
   ],
   "source": [
    "pip install matplotlib"
   ]
  },
  {
   "cell_type": "code",
   "execution_count": 3,
   "id": "4ef3c197",
   "metadata": {},
   "outputs": [
    {
     "name": "stdout",
     "output_type": "stream",
     "text": [
      "Requirement already satisfied: scikit-learn in c:\\users\\mfcho\\onedrive\\documents\\data engeneering\\projetpython2\\.venv\\lib\\site-packages (1.0.2)\n",
      "Requirement already satisfied: numpy>=1.14.6 in c:\\users\\mfcho\\onedrive\\documents\\data engeneering\\projetpython2\\.venv\\lib\\site-packages (from scikit-learn) (1.26.4)\n",
      "Requirement already satisfied: scipy>=1.1.0 in c:\\users\\mfcho\\onedrive\\documents\\data engeneering\\projetpython2\\.venv\\lib\\site-packages (from scikit-learn) (1.13.1)\n",
      "Requirement already satisfied: joblib>=0.11 in c:\\users\\mfcho\\onedrive\\documents\\data engeneering\\projetpython2\\.venv\\lib\\site-packages (from scikit-learn) (1.4.2)\n",
      "Requirement already satisfied: threadpoolctl>=2.0.0 in c:\\users\\mfcho\\onedrive\\documents\\data engeneering\\projetpython2\\.venv\\lib\\site-packages (from scikit-learn) (3.5.0)\n",
      "Note: you may need to restart the kernel to use updated packages.\n"
     ]
    }
   ],
   "source": [
    "pip install scikit-learn\n"
   ]
  },
  {
   "cell_type": "code",
   "execution_count": 4,
   "id": "cee3f599",
   "metadata": {},
   "outputs": [],
   "source": [
    "import pandas as pd\n",
    "import numpy as np\n",
    "import matplotlib\n",
    "import matplotlib.pyplot as plt\n",
    "import sklearn\n",
    "from sklearn.model_selection import train_test_split\n",
    "from sklearn.linear_model import LinearRegression\n",
    "from sklearn.metrics import mean_squared_error\n",
    "\n"
   ]
  },
  {
   "cell_type": "code",
   "execution_count": 5,
   "id": "332512ef",
   "metadata": {
    "scrolled": true
   },
   "outputs": [],
   "source": [
    "# Chargeons les données\n",
    "data = pd.read_csv(\"C:/Users/mfcho/OneDrive/Documents/Data Engeneering/projetpython2/france_total_real_estate_sales_2022.csv\", \n",
    "                   dtype={'Commune': 'str', 'Code postal': 'str'}, \n",
    "                   low_memory=False)"
   ]
  },
  {
   "cell_type": "code",
   "execution_count": 6,
   "id": "e3faa14d",
   "metadata": {
    "scrolled": true
   },
   "outputs": [
    {
     "name": "stdout",
     "output_type": "stream",
     "text": [
      "0      55000,00\n",
      "1     143000,00\n",
      "2     143000,00\n",
      "3     143000,00\n",
      "4        300,00\n",
      "5     255000,00\n",
      "6     255000,00\n",
      "7     525000,00\n",
      "8     525000,00\n",
      "9     525000,00\n",
      "10    254200,00\n",
      "11     64000,00\n",
      "12     64000,00\n",
      "13    140000,00\n",
      "14    140000,00\n",
      "15    140000,00\n",
      "16    140000,00\n",
      "17    134000,00\n",
      "18    134000,00\n",
      "19    134000,00\n",
      "Name: Valeur fonciere, dtype: object\n"
     ]
    }
   ],
   "source": [
    "# Afficher les 20 premières valeurs de la colonne 'Valeur fonciere'\n",
    "print(data['Valeur fonciere'].head(20))"
   ]
  },
  {
   "cell_type": "code",
   "execution_count": 7,
   "id": "5de0ba52",
   "metadata": {},
   "outputs": [
    {
     "name": "stdout",
     "output_type": "stream",
     "text": [
      "NaN après conversion dans 'Valeur fonciere': 24721\n"
     ]
    }
   ],
   "source": [
    "# Remplacer les virgules par des points dans la colonne 'Valeur fonciere'\n",
    "data['Valeur fonciere'] = data['Valeur fonciere'].str.replace(',', '.', regex=False)\n",
    "\n",
    "\n",
    "# Convertir la colonne en numérique\n",
    "data['Valeur fonciere'] = pd.to_numeric(data['Valeur fonciere'], errors='coerce')\n",
    "\n",
    "# Vérifier si des NaN persistent\n",
    "print(\"NaN après conversion dans 'Valeur fonciere':\", data['Valeur fonciere'].isna().sum())\n",
    "\n",
    "#des NaN persistent après la conversion, remplissons les avec la moyenne des valeurs.\n",
    "data['Valeur fonciere'] = data['Valeur fonciere'].fillna(data['Valeur fonciere'].mean())\n",
    "\n",
    "# Sélectionner les colonnes numériques uniquement pour le calcul des moyennes\n",
    "numerical_features = ['Surface reelle bati', 'Nombre pieces principales', 'Surface terrain']\n",
    "\n",
    "# Remplir les NaN dans les colonnes numériques\n",
    "for feature in numerical_features:\n",
    "    data[feature] = data[feature].fillna(data[feature].mean())\n"
   ]
  },
  {
   "cell_type": "code",
   "execution_count": 8,
   "id": "4527ceb7",
   "metadata": {},
   "outputs": [],
   "source": [
    " #Ajouter de nouvelles caractéristiques pour enrichir le modèle\n",
    "data['Densite_bati'] = data['Surface reelle bati'] / data['Surface terrain']\n",
    "data['Rapport_pieces_surface'] = data['Nombre pieces principales'] / data['Surface reelle bati']"
   ]
  },
  {
   "cell_type": "code",
   "execution_count": 9,
   "id": "1c035991",
   "metadata": {},
   "outputs": [
    {
     "name": "stdout",
     "output_type": "stream",
     "text": [
      "NaN après conversion dans 'Valeur fonciere': 0\n"
     ]
    }
   ],
   "source": [
    "# Vérifier si des NaN persistent\n",
    "print(\"NaN après conversion dans 'Valeur fonciere':\", data['Valeur fonciere'].isna().sum())"
   ]
  },
  {
   "cell_type": "code",
   "execution_count": 10,
   "id": "e49892fd",
   "metadata": {},
   "outputs": [],
   "source": [
    "# Sélectionner uniquement les colonnes numériques pour X\n",
    "X = data[['Surface reelle bati', 'Nombre pieces principales', 'Surface terrain', 'Densite_bati', 'Rapport_pieces_surface']]\n",
    "\n",
    "# Variable cible (Valeur fonciere)\n",
    "y = data['Valeur fonciere']"
   ]
  },
  {
   "cell_type": "code",
   "execution_count": 11,
   "id": "bb3b3b6a",
   "metadata": {},
   "outputs": [],
   "source": [
    "# Séparation des données en ensembles d'entraînement et de test\n",
    "X_train, X_test, y_train, y_test = train_test_split(X, y, test_size=0.2, random_state=42)\n"
   ]
  },
  {
   "cell_type": "code",
   "execution_count": 12,
   "id": "e38a6abd",
   "metadata": {},
   "outputs": [
    {
     "name": "stdout",
     "output_type": "stream",
     "text": [
      "NaN dans X_train : 809004\n",
      "NaN dans y_train : 0\n"
     ]
    }
   ],
   "source": [
    "# Vérifier les NaN dans les ensembles d'entraînement et de test\n",
    "print(\"NaN dans X_train :\", X_train.isna().sum().sum())\n",
    "print(\"NaN dans y_train :\", y_train.isna().sum())"
   ]
  },
  {
   "cell_type": "code",
   "execution_count": 13,
   "id": "dc2e5cae",
   "metadata": {},
   "outputs": [
    {
     "name": "stdout",
     "output_type": "stream",
     "text": [
      "Rapport_pieces_surface       2.658470e-01\n",
      "Densite_bati                 9.858342e-07\n",
      "Surface reelle bati          0.000000e+00\n",
      "Nombre pieces principales    0.000000e+00\n",
      "Surface terrain              0.000000e+00\n",
      "dtype: float64\n"
     ]
    }
   ],
   "source": [
    "# Vérifier le pourcentage de valeurs manquantes dans chaque colonne\n",
    "missing_values = X_train.isna().mean().sort_values(ascending=False)\n",
    "print(missing_values)"
   ]
  },
  {
   "cell_type": "code",
   "execution_count": 14,
   "id": "53d5d4e9",
   "metadata": {},
   "outputs": [],
   "source": [
    "# Remplir les valeurs manquantes avec la moyenne des colonnes\n",
    "X_train_cleaned = X_train.fillna(X_train.mean())\n"
   ]
  },
  {
   "cell_type": "code",
   "execution_count": 15,
   "id": "d663517b",
   "metadata": {},
   "outputs": [
    {
     "name": "stdout",
     "output_type": "stream",
     "text": [
      "NaN après nettoyage dans X_train_cleaned : 0\n"
     ]
    }
   ],
   "source": [
    "# Vérification des NaN après nettoyage\n",
    "print(\"NaN après nettoyage dans X_train_cleaned :\", X_train_cleaned.isna().sum().sum())\n"
   ]
  },
  {
   "cell_type": "code",
   "execution_count": 16,
   "id": "7dd61c13",
   "metadata": {},
   "outputs": [
    {
     "name": "stdout",
     "output_type": "stream",
     "text": [
      "Taille de X_train_final: (3043108, 5)\n",
      "Taille de y_train_final: (3043108,)\n"
     ]
    }
   ],
   "source": [
    "# Combiner X_train_cleaned et y_train pour supprimer les lignes avec des NaN dans les deux\n",
    "combined = pd.concat([X_train_cleaned, y_train], axis=1).dropna()\n",
    "\n",
    "# Séparer à nouveau les caractéristiques et la cible\n",
    "X_train_final = combined.drop(columns=['Valeur fonciere'])\n",
    "y_train_final = combined['Valeur fonciere']\n",
    "\n",
    "# Vérifier les dimensions pour s'assurer qu'elles correspondent\n",
    "print(f\"Taille de X_train_final: {X_train_final.shape}\")\n",
    "print(f\"Taille de y_train_final: {y_train_final.shape}\")\n"
   ]
  },
  {
   "cell_type": "code",
   "execution_count": 17,
   "id": "2e71eb47",
   "metadata": {},
   "outputs": [],
   "source": [
    "# Recréons l'ensemble d'entraînement et de test\n",
    "X_train_final, X_test_final, y_train_final, y_test_final = train_test_split(X_train_final, y_train_final, test_size=0.2, random_state=42)"
   ]
  },
  {
   "cell_type": "code",
   "execution_count": 18,
   "id": "5e17f2c2",
   "metadata": {},
   "outputs": [
    {
     "name": "stdout",
     "output_type": "stream",
     "text": [
      "NaN dans X_train_final : 0\n",
      "Infinités dans X_train_final : 44\n",
      "NaN dans y_train_final : 0\n",
      "Infinités dans y_train_final : 0\n"
     ]
    }
   ],
   "source": [
    "# Vérifier les NaN et les valeurs infinies dans X_train_final\n",
    "print(\"NaN dans X_train_final :\", X_train_final.isna().sum().sum())\n",
    "print(\"Infinités dans X_train_final :\", np.isinf(X_train_final).sum().sum())\n",
    "\n",
    "# Vérifier les NaN et les valeurs infinies dans y_train_final\n",
    "print(\"NaN dans y_train_final :\", y_train_final.isna().sum())\n",
    "print(\"Infinités dans y_train_final :\", np.isinf(y_train_final).sum())\n"
   ]
  },
  {
   "cell_type": "code",
   "execution_count": 19,
   "id": "e99f925e",
   "metadata": {},
   "outputs": [],
   "source": [
    "# Remplacer les valeurs infinies par NaN pour pouvoir les traiter\n",
    "X_train_final.replace([np.inf, -np.inf], np.nan, inplace=True)\n",
    "\n",
    "# Remplir les NaN (anciennement inf) par la moyenne des colonnes\n",
    "X_train_final = X_train_final.fillna(X_train_final.mean())\n"
   ]
  },
  {
   "cell_type": "code",
   "execution_count": 20,
   "id": "41650769",
   "metadata": {},
   "outputs": [
    {
     "name": "stdout",
     "output_type": "stream",
     "text": [
      "Infinités après traitement dans X_train_final : 0\n",
      "NaN après traitement dans X_train_final : 0\n"
     ]
    }
   ],
   "source": [
    "# Vérification post-traitement\n",
    "print(\"Infinités après traitement dans X_train_final :\", np.isinf(X_train_final).sum().sum())\n",
    "print(\"NaN après traitement dans X_train_final :\", X_train_final.isna().sum().sum())\n"
   ]
  },
  {
   "cell_type": "code",
   "execution_count": 21,
   "id": "a07c5e5b",
   "metadata": {},
   "outputs": [
    {
     "data": {
      "text/plain": [
       "LinearRegression()"
      ]
     },
     "execution_count": 21,
     "metadata": {},
     "output_type": "execute_result"
    }
   ],
   "source": [
    "# Création et entraînement du modèle de régression linéaire\n",
    "model = LinearRegression()\n",
    "model.fit(X_train_final, y_train_final)"
   ]
  },
  {
   "cell_type": "code",
   "execution_count": 22,
   "id": "8245282e",
   "metadata": {},
   "outputs": [],
   "source": [
    "# Prédiction des valeurs foncières sur l'ensemble de test\n",
    "y_pred = model.predict(X_train_final)"
   ]
  },
  {
   "cell_type": "code",
   "execution_count": 23,
   "id": "7a0a10fb",
   "metadata": {},
   "outputs": [
    {
     "name": "stdout",
     "output_type": "stream",
     "text": [
      "RMSE: 5969437.384987734\n"
     ]
    }
   ],
   "source": [
    "# Évaluation du modèle avec RMSE\n",
    "# Calcul manuel du RMSE\n",
    "rmse = np.sqrt(mean_squared_error(y_train_final, y_pred))\n",
    "print(f\"RMSE: {rmse}\")"
   ]
  },
  {
   "cell_type": "code",
   "execution_count": 24,
   "id": "1d0a73fb",
   "metadata": {},
   "outputs": [
    {
     "name": "stderr",
     "output_type": "stream",
     "text": [
      "c:\\Users\\mfcho\\OneDrive\\Documents\\Data Engeneering\\projetpython2\\.venv\\lib\\site-packages\\IPython\\core\\pylabtools.py:152: UserWarning: Creating legend with loc=\"best\" can be slow with large amounts of data.\n",
      "  fig.canvas.print_figure(bytes_io, **kw)\n"
     ]
    },
    {
     "data": {
      "image/png": "[encoded data removed]",
      "text/plain": [
       "<Figure size 800x800 with 1 Axes>"
      ]
     },
     "metadata": {},
     "output_type": "display_data"
    }
   ],
   "source": [
    "# Créer un graphique pour visualiser les prédictions vs les valeurs réelles\n",
    "plt.figure(figsize=(8, 8))\n",
    "plt.scatter(y_train_final, y_pred, alpha=0.3, label=\"Prédictions\", color='blue')\n",
    "plt.plot([min(y_train_final), max(y_train_final)], [min(y_train_final), max(y_train_final)], \n",
    "         color=\"red\", label=\"Ligne idéale (y=x)\")\n",
    "plt.xlabel(\"Valeurs Réelles\")\n",
    "plt.ylabel(\"Prédictions\")\n",
    "plt.title(\"Prédictions vs Valeurs Réelles\")\n",
    "plt.legend()\n",
    "plt.grid(True)\n",
    "plt.show()\n"
   ]
  },
  {
   "cell_type": "code",
   "execution_count": 25,
   "id": "895ee0f2",
   "metadata": {},
   "outputs": [
    {
     "name": "stdout",
     "output_type": "stream",
     "text": [
      "Requirement already satisfied: xgboost in c:\\users\\mfcho\\onedrive\\documents\\data engeneering\\projetpython2\\.venv\\lib\\site-packages (2.1.3)\n",
      "Requirement already satisfied: numpy in c:\\users\\mfcho\\onedrive\\documents\\data engeneering\\projetpython2\\.venv\\lib\\site-packages (from xgboost) (1.26.4)\n",
      "Requirement already satisfied: scipy in c:\\users\\mfcho\\onedrive\\documents\\data engeneering\\projetpython2\\.venv\\lib\\site-packages (from xgboost) (1.13.1)\n",
      "Note: you may need to restart the kernel to use updated packages.\n"
     ]
    }
   ],
   "source": [
    "pip install xgboost\n"
   ]
  },
  {
   "cell_type": "code",
   "execution_count": 26,
   "id": "c2077a3e",
   "metadata": {},
   "outputs": [
    {
     "name": "stdout",
     "output_type": "stream",
     "text": [
      "RMSE avec XGBoost: 5435926.695802487\n"
     ]
    }
   ],
   "source": [
    "from xgboost import XGBRegressor\n",
    "from sklearn.metrics import mean_squared_error\n",
    "# Créer et entraîner un modèle XGBoost\n",
    "xgb_model = XGBRegressor(random_state=42, n_estimators=100, learning_rate=0.1)\n",
    "xgb_model.fit(X_train_final, y_train_final)\n",
    "\n",
    "# Prédictions avec XGBoost\n",
    "y_pred_xgb = xgb_model.predict(X_test_final)\n",
    "\n",
    "# Évaluation du modèle XGBoost avec RMSE\n",
    "# Calcul manuel du RMSE\n",
    "rmse_xgb = np.sqrt(mean_squared_error(y_test_final, y_pred_xgb))\n",
    "print(f\"RMSE avec XGBoost: {rmse_xgb}\")"
   ]
  },
  {
   "cell_type": "code",
   "execution_count": 27,
   "id": "fd781850",
   "metadata": {},
   "outputs": [
    {
     "name": "stdout",
     "output_type": "stream",
     "text": [
      "Dimension de y_test_final : 608622\n",
      "Dimension de y_pred : 2434486\n"
     ]
    }
   ],
   "source": [
    "# Vérifions les dimensions des deux séries\n",
    "print(f\"Dimension de y_test_final : {len(y_test_final)}\")\n",
    "print(f\"Dimension de y_pred : {len(y_pred)}\")\n"
   ]
  },
  {
   "cell_type": "code",
   "execution_count": 28,
   "id": "a2415b9a",
   "metadata": {},
   "outputs": [
    {
     "name": "stdout",
     "output_type": "stream",
     "text": [
      "Dimension de X_test_final : 608622\n"
     ]
    }
   ],
   "source": [
    "# Vérifions la taille de X_test_final\n",
    "print(f\"Dimension de X_test_final : {len(X_test_final)}\")"
   ]
  },
  {
   "cell_type": "code",
   "execution_count": 29,
   "id": "79c689e8",
   "metadata": {},
   "outputs": [],
   "source": [
    "# Assurons-nous que le processus de création des ensembles est cohérent\n",
    "\n",
    "X_train_final, X_test_final, y_train_final, y_test_final = train_test_split(\n",
    "    X_train_final, y_train_final, test_size=0.2, random_state=42\n",
    ")"
   ]
  },
  {
   "cell_type": "code",
   "execution_count": 30,
   "id": "fa9a62bb",
   "metadata": {},
   "outputs": [],
   "source": [
    "# Reprenons la prédiction\n",
    "y_pred = model.predict(X_test_final)\n"
   ]
  },
  {
   "cell_type": "code",
   "execution_count": 31,
   "id": "76366379",
   "metadata": {},
   "outputs": [
    {
     "name": "stdout",
     "output_type": "stream",
     "text": [
      "Dimension recalculée de y_pred : 486898\n"
     ]
    }
   ],
   "source": [
    "# verifions à nouveau les dimensions \n",
    "print(f\"Dimension recalculée de y_pred : {len(y_pred)}\")\n"
   ]
  },
  {
   "cell_type": "code",
   "execution_count": 32,
   "id": "a424f574",
   "metadata": {},
   "outputs": [
    {
     "data": {
      "image/png": "[encoded data removed]",
      "text/plain": [
       "<Figure size 1000x600 with 1 Axes>"
      ]
     },
     "metadata": {},
     "output_type": "display_data"
    }
   ],
   "source": [
    "# Visualisons les résidus\n",
    "import matplotlib.pyplot as plt\n",
    "residuals = y_test_final - y_pred\n",
    "plt.figure(figsize=(10, 6))\n",
    "plt.scatter(y_pred, residuals, alpha=0.5)\n",
    "plt.axhline(y=0, color='r', linestyle='--', label='Résidu = 0')\n",
    "plt.xlabel(\"Valeurs prédites\")\n",
    "plt.ylabel(\"Résidus\")\n",
    "plt.title(\"Analyse des Résidus\")\n",
    "plt.legend()\n",
    "plt.show()"
   ]
  },
  {
   "cell_type": "code",
   "execution_count": 33,
   "id": "73a57c6a",
   "metadata": {},
   "outputs": [
    {
     "name": "stderr",
     "output_type": "stream",
     "text": [
      "C:\\Users\\mfcho\\AppData\\Local\\Temp\\ipykernel_21272\\4089670207.py:2: SettingWithCopyWarning: \n",
      "A value is trying to be set on a copy of a slice from a DataFrame\n",
      "\n",
      "See the caveats in the documentation: https://pandas.pydata.org/pandas-docs/stable/user_guide/indexing.html#returning-a-view-versus-a-copy\n",
      "  X.replace([np.inf, -np.inf], np.nan, inplace=True)\n"
     ]
    },
    {
     "name": "stdout",
     "output_type": "stream",
     "text": [
      "Infinités dans X : 0\n",
      "NaN dans X : 0\n"
     ]
    }
   ],
   "source": [
    "# Remplacons les infinis par NaN\n",
    "X.replace([np.inf, -np.inf], np.nan, inplace=True)\n",
    "\n",
    "# Remplacons les NaN par la moyenne de chaque colonne\n",
    "X = X.fillna(X.mean())\n",
    "\n",
    "# Vérification finale\n",
    "print(\"Infinités dans X :\", np.isinf(X).sum().sum())\n",
    "print(\"NaN dans X :\", X.isna().sum().sum())\n"
   ]
  },
  {
   "cell_type": "code",
   "execution_count": 34,
   "id": "99f56bdd",
   "metadata": {},
   "outputs": [],
   "source": [
    "# Limitons les valeurs à un certain seuil\n",
    "threshold = 1e6  # Exemple : 1 million\n",
    "X = X.clip(lower=-threshold, upper=threshold)\n"
   ]
  },
  {
   "cell_type": "code",
   "execution_count": 35,
   "id": "6cb791bb",
   "metadata": {},
   "outputs": [],
   "source": [
    "from sklearn.preprocessing import MinMaxScaler\n",
    "#Normalisation des données\n",
    "scaler = MinMaxScaler()\n",
    "X_scaled = scaler.fit_transform(X)\n"
   ]
  },
  {
   "cell_type": "code",
   "execution_count": 36,
   "id": "88170662",
   "metadata": {},
   "outputs": [],
   "source": [
    "# Mise à jour des ensembles d'entraînement et de test\n",
    "X_train, X_test, y_train, y_test = train_test_split(X_scaled, y, test_size=0.2, random_state=42)"
   ]
  },
  {
   "cell_type": "markdown",
   "id": "bcc9d15d",
   "metadata": {},
   "source": [
    "# Optimisation des Hyperparamètres avec GridSearchCV"
   ]
  },
  {
   "cell_type": "code",
   "execution_count": 46,
   "id": "5a91ea1b",
   "metadata": {},
   "outputs": [],
   "source": [
    "from sklearn.model_selection import GridSearchCV\n",
    "from xgboost import XGBRegressor\n",
    "\n",
    "# Définissons une grille d'hyperparamètres\n",
    "param_grid = {\n",
    "    'n_estimators': [50, 100, 150],\n",
    "    'learning_rate': [0.01, 0.1, 0.2],\n",
    "    'max_depth': [3, 5, 7]\n",
    "}\n"
   ]
  },
  {
   "cell_type": "code",
   "execution_count": 47,
   "id": "de31220e",
   "metadata": {},
   "outputs": [
    {
     "name": "stdout",
     "output_type": "stream",
     "text": [
      "Found existing installation: scikit-learn 1.0.2\n",
      "Uninstalling scikit-learn-1.0.2:\n",
      "  Successfully uninstalled scikit-learn-1.0.2\n",
      "Collecting scikit-learn==1.0.2\n",
      "  Using cached scikit_learn-1.0.2-cp39-cp39-win_amd64.whl.metadata (10 kB)\n",
      "Requirement already satisfied: numpy>=1.14.6 in c:\\users\\mfcho\\onedrive\\documents\\data engeneering\\projetpython2\\.venv\\lib\\site-packages (from scikit-learn==1.0.2) (1.26.4)\n",
      "Requirement already satisfied: scipy>=1.1.0 in c:\\users\\mfcho\\onedrive\\documents\\data engeneering\\projetpython2\\.venv\\lib\\site-packages (from scikit-learn==1.0.2) (1.13.1)\n",
      "Requirement already satisfied: joblib>=0.11 in c:\\users\\mfcho\\onedrive\\documents\\data engeneering\\projetpython2\\.venv\\lib\\site-packages (from scikit-learn==1.0.2) (1.4.2)\n",
      "Requirement already satisfied: threadpoolctl>=2.0.0 in c:\\users\\mfcho\\onedrive\\documents\\data engeneering\\projetpython2\\.venv\\lib\\site-packages (from scikit-learn==1.0.2) (3.5.0)\n",
      "Using cached scikit_learn-1.0.2-cp39-cp39-win_amd64.whl (7.2 MB)\n",
      "Installing collected packages: scikit-learn\n",
      "Successfully installed scikit-learn-1.0.2\n"
     ]
    }
   ],
   "source": [
    "!pip uninstall -y scikit-learn\n",
    "!pip install scikit-learn==1.0.2 "
   ]
  },
  {
   "cell_type": "code",
   "execution_count": 48,
   "id": "0b4dc1ed",
   "metadata": {},
   "outputs": [
    {
     "name": "stdout",
     "output_type": "stream",
     "text": [
      "Fitting 3 folds for each of 27 candidates, totalling 81 fits\n"
     ]
    },
    {
     "data": {
      "text/plain": [
       "GridSearchCV(cv=3,\n",
       "             estimator=XGBRegressor(base_score=None, booster=None,\n",
       "                                    callbacks=None, colsample_bylevel=None,\n",
       "                                    colsample_bynode=None,\n",
       "                                    colsample_bytree=None, device=None,\n",
       "                                    early_stopping_rounds=None,\n",
       "                                    enable_categorical=False, eval_metric=None,\n",
       "                                    feature_types=None, gamma=None,\n",
       "                                    grow_policy=None, importance_type=None,\n",
       "                                    interaction_constraints=None,\n",
       "                                    learning_rate=None, m...\n",
       "                                    max_cat_to_onehot=None, max_delta_step=None,\n",
       "                                    max_depth=None, max_leaves=None,\n",
       "                                    min_child_weight=None, missing=nan,\n",
       "                                    monotone_constraints=None,\n",
       "                                    multi_strategy=None, n_estimators=None,\n",
       "                                    n_jobs=None, num_parallel_tree=None,\n",
       "                                    random_state=42, ...),\n",
       "             param_grid={'learning_rate': [0.01, 0.1, 0.2],\n",
       "                         'max_depth': [3, 5, 7],\n",
       "                         'n_estimators': [50, 100, 150]},\n",
       "             scoring='neg_mean_squared_error', verbose=1)"
      ]
     },
     "execution_count": 48,
     "metadata": {},
     "output_type": "execute_result"
    }
   ],
   "source": [
    "xgb = XGBRegressor(random_state=42)\n",
    "grid_search = GridSearchCV(estimator=xgb, param_grid=param_grid, scoring='neg_mean_squared_error', cv=3, verbose=1)\n",
    "grid_search.fit(X_train, y_train)"
   ]
  },
  {
   "cell_type": "code",
   "execution_count": 49,
   "id": "678c5a7f",
   "metadata": {},
   "outputs": [
    {
     "name": "stdout",
     "output_type": "stream",
     "text": [
      "Meilleurs paramètres : {'learning_rate': 0.1, 'max_depth': 7, 'n_estimators': 150}\n"
     ]
    }
   ],
   "source": [
    "# Meilleurs paramètres\n",
    "print(\"Meilleurs paramètres :\", grid_search.best_params_)\n",
    "best_model = grid_search.best_estimator_"
   ]
  },
  {
   "cell_type": "code",
   "execution_count": 58,
   "id": "0497234e",
   "metadata": {},
   "outputs": [
    {
     "name": "stdout",
     "output_type": "stream",
     "text": [
      "RMSE avec les meilleurs hyperparamètres : 5856234.5074183205\n"
     ]
    }
   ],
   "source": [
    "# Réentraîner le modèle avec les meilleurs hyperparamètres\n",
    "best_model = XGBRegressor(\n",
    "    learning_rate=0.1,\n",
    "    max_depth=7,\n",
    "    n_estimators=150,\n",
    "    random_state=42\n",
    ")\n",
    "best_model.fit(X_train_final, y_train_final)\n",
    "\n",
    "# Prédiction sur l'ensemble de test\n",
    "y_pred_best = best_model.predict(X_test_final)\n",
    "\n",
    "# Évaluation du RMSE\n",
    "rmse_best = mean_squared_error(y_test_final, y_pred_best, squared=False)\n",
    "print(f\"RMSE avec les meilleurs hyperparamètres : {rmse_best}\")\n"
   ]
  },
  {
   "cell_type": "markdown",
   "id": "55fe5f53",
   "metadata": {},
   "source": [
    "# Réseaux de Neurones avec Keras"
   ]
  },
  {
   "cell_type": "code",
   "execution_count": 50,
   "id": "ae2d6bd5",
   "metadata": {},
   "outputs": [
    {
     "name": "stdout",
     "output_type": "stream",
     "text": [
      "Requirement already satisfied: tensorflow in c:\\users\\mfcho\\onedrive\\documents\\data engeneering\\projetpython2\\.venv\\lib\\site-packages (2.18.0)\n",
      "Requirement already satisfied: tensorflow-intel==2.18.0 in c:\\users\\mfcho\\onedrive\\documents\\data engeneering\\projetpython2\\.venv\\lib\\site-packages (from tensorflow) (2.18.0)\n",
      "Requirement already satisfied: absl-py>=1.0.0 in c:\\users\\mfcho\\onedrive\\documents\\data engeneering\\projetpython2\\.venv\\lib\\site-packages (from tensorflow-intel==2.18.0->tensorflow) (2.1.0)\n",
      "Requirement already satisfied: astunparse>=1.6.0 in c:\\users\\mfcho\\onedrive\\documents\\data engeneering\\projetpython2\\.venv\\lib\\site-packages (from tensorflow-intel==2.18.0->tensorflow) (1.6.3)\n",
      "Requirement already satisfied: flatbuffers>=24.3.25 in c:\\users\\mfcho\\onedrive\\documents\\data engeneering\\projetpython2\\.venv\\lib\\site-packages (from tensorflow-intel==2.18.0->tensorflow) (24.12.23)\n",
      "Requirement already satisfied: gast!=0.5.0,!=0.5.1,!=0.5.2,>=0.2.1 in c:\\users\\mfcho\\onedrive\\documents\\data engeneering\\projetpython2\\.venv\\lib\\site-packages (from tensorflow-intel==2.18.0->tensorflow) (0.6.0)\n",
      "Requirement already satisfied: google-pasta>=0.1.1 in c:\\users\\mfcho\\onedrive\\documents\\data engeneering\\projetpython2\\.venv\\lib\\site-packages (from tensorflow-intel==2.18.0->tensorflow) (0.2.0)\n",
      "Requirement already satisfied: libclang>=13.0.0 in c:\\users\\mfcho\\onedrive\\documents\\data engeneering\\projetpython2\\.venv\\lib\\site-packages (from tensorflow-intel==2.18.0->tensorflow) (18.1.1)\n",
      "Requirement already satisfied: opt-einsum>=2.3.2 in c:\\users\\mfcho\\onedrive\\documents\\data engeneering\\projetpython2\\.venv\\lib\\site-packages (from tensorflow-intel==2.18.0->tensorflow) (3.4.0)\n",
      "Requirement already satisfied: packaging in c:\\users\\mfcho\\onedrive\\documents\\data engeneering\\projetpython2\\.venv\\lib\\site-packages (from tensorflow-intel==2.18.0->tensorflow) (24.2)\n",
      "Requirement already satisfied: protobuf!=4.21.0,!=4.21.1,!=4.21.2,!=4.21.3,!=4.21.4,!=4.21.5,<6.0.0dev,>=3.20.3 in c:\\users\\mfcho\\onedrive\\documents\\data engeneering\\projetpython2\\.venv\\lib\\site-packages (from tensorflow-intel==2.18.0->tensorflow) (5.29.3)\n",
      "Requirement already satisfied: requests<3,>=2.21.0 in c:\\users\\mfcho\\onedrive\\documents\\data engeneering\\projetpython2\\.venv\\lib\\site-packages (from tensorflow-intel==2.18.0->tensorflow) (2.32.3)\n",
      "Requirement already satisfied: setuptools in c:\\users\\mfcho\\onedrive\\documents\\data engeneering\\projetpython2\\.venv\\lib\\site-packages (from tensorflow-intel==2.18.0->tensorflow) (58.1.0)\n",
      "Requirement already satisfied: six>=1.12.0 in c:\\users\\mfcho\\onedrive\\documents\\data engeneering\\projetpython2\\.venv\\lib\\site-packages (from tensorflow-intel==2.18.0->tensorflow) (1.17.0)\n",
      "Requirement already satisfied: termcolor>=1.1.0 in c:\\users\\mfcho\\onedrive\\documents\\data engeneering\\projetpython2\\.venv\\lib\\site-packages (from tensorflow-intel==2.18.0->tensorflow) (2.5.0)\n",
      "Requirement already satisfied: typing-extensions>=3.6.6 in c:\\users\\mfcho\\onedrive\\documents\\data engeneering\\projetpython2\\.venv\\lib\\site-packages (from tensorflow-intel==2.18.0->tensorflow) (4.12.2)\n",
      "Requirement already satisfied: wrapt>=1.11.0 in c:\\users\\mfcho\\onedrive\\documents\\data engeneering\\projetpython2\\.venv\\lib\\site-packages (from tensorflow-intel==2.18.0->tensorflow) (1.17.2)\n",
      "Requirement already satisfied: grpcio<2.0,>=1.24.3 in c:\\users\\mfcho\\onedrive\\documents\\data engeneering\\projetpython2\\.venv\\lib\\site-packages (from tensorflow-intel==2.18.0->tensorflow) (1.69.0)\n",
      "Requirement already satisfied: tensorboard<2.19,>=2.18 in c:\\users\\mfcho\\onedrive\\documents\\data engeneering\\projetpython2\\.venv\\lib\\site-packages (from tensorflow-intel==2.18.0->tensorflow) (2.18.0)\n",
      "Requirement already satisfied: keras>=3.5.0 in c:\\users\\mfcho\\onedrive\\documents\\data engeneering\\projetpython2\\.venv\\lib\\site-packages (from tensorflow-intel==2.18.0->tensorflow) (3.8.0)\n",
      "Requirement already satisfied: numpy<2.1.0,>=1.26.0 in c:\\users\\mfcho\\onedrive\\documents\\data engeneering\\projetpython2\\.venv\\lib\\site-packages (from tensorflow-intel==2.18.0->tensorflow) (1.26.4)\n",
      "Requirement already satisfied: h5py>=3.11.0 in c:\\users\\mfcho\\onedrive\\documents\\data engeneering\\projetpython2\\.venv\\lib\\site-packages (from tensorflow-intel==2.18.0->tensorflow) (3.12.1)\n",
      "Requirement already satisfied: ml-dtypes<0.5.0,>=0.4.0 in c:\\users\\mfcho\\onedrive\\documents\\data engeneering\\projetpython2\\.venv\\lib\\site-packages (from tensorflow-intel==2.18.0->tensorflow) (0.4.1)\n",
      "Requirement already satisfied: tensorflow-io-gcs-filesystem>=0.23.1 in c:\\users\\mfcho\\onedrive\\documents\\data engeneering\\projetpython2\\.venv\\lib\\site-packages (from tensorflow-intel==2.18.0->tensorflow) (0.31.0)\n",
      "Requirement already satisfied: wheel<1.0,>=0.23.0 in c:\\users\\mfcho\\onedrive\\documents\\data engeneering\\projetpython2\\.venv\\lib\\site-packages (from astunparse>=1.6.0->tensorflow-intel==2.18.0->tensorflow) (0.45.1)\n",
      "Requirement already satisfied: rich in c:\\users\\mfcho\\onedrive\\documents\\data engeneering\\projetpython2\\.venv\\lib\\site-packages (from keras>=3.5.0->tensorflow-intel==2.18.0->tensorflow) (13.9.4)\n",
      "Requirement already satisfied: namex in c:\\users\\mfcho\\onedrive\\documents\\data engeneering\\projetpython2\\.venv\\lib\\site-packages (from keras>=3.5.0->tensorflow-intel==2.18.0->tensorflow) (0.0.8)\n",
      "Requirement already satisfied: optree in c:\\users\\mfcho\\onedrive\\documents\\data engeneering\\projetpython2\\.venv\\lib\\site-packages (from keras>=3.5.0->tensorflow-intel==2.18.0->tensorflow) (0.14.0)\n",
      "Requirement already satisfied: charset-normalizer<4,>=2 in c:\\users\\mfcho\\onedrive\\documents\\data engeneering\\projetpython2\\.venv\\lib\\site-packages (from requests<3,>=2.21.0->tensorflow-intel==2.18.0->tensorflow) (3.4.1)\n",
      "Requirement already satisfied: idna<4,>=2.5 in c:\\users\\mfcho\\onedrive\\documents\\data engeneering\\projetpython2\\.venv\\lib\\site-packages (from requests<3,>=2.21.0->tensorflow-intel==2.18.0->tensorflow) (3.10)\n",
      "Requirement already satisfied: urllib3<3,>=1.21.1 in c:\\users\\mfcho\\onedrive\\documents\\data engeneering\\projetpython2\\.venv\\lib\\site-packages (from requests<3,>=2.21.0->tensorflow-intel==2.18.0->tensorflow) (2.3.0)\n",
      "Requirement already satisfied: certifi>=2017.4.17 in c:\\users\\mfcho\\onedrive\\documents\\data engeneering\\projetpython2\\.venv\\lib\\site-packages (from requests<3,>=2.21.0->tensorflow-intel==2.18.0->tensorflow) (2024.12.14)\n",
      "Requirement already satisfied: markdown>=2.6.8 in c:\\users\\mfcho\\onedrive\\documents\\data engeneering\\projetpython2\\.venv\\lib\\site-packages (from tensorboard<2.19,>=2.18->tensorflow-intel==2.18.0->tensorflow) (3.7)\n",
      "Requirement already satisfied: tensorboard-data-server<0.8.0,>=0.7.0 in c:\\users\\mfcho\\onedrive\\documents\\data engeneering\\projetpython2\\.venv\\lib\\site-packages (from tensorboard<2.19,>=2.18->tensorflow-intel==2.18.0->tensorflow) (0.7.2)\n",
      "Requirement already satisfied: werkzeug>=1.0.1 in c:\\users\\mfcho\\onedrive\\documents\\data engeneering\\projetpython2\\.venv\\lib\\site-packages (from tensorboard<2.19,>=2.18->tensorflow-intel==2.18.0->tensorflow) (3.1.3)\n",
      "Requirement already satisfied: importlib-metadata>=4.4 in c:\\users\\mfcho\\onedrive\\documents\\data engeneering\\projetpython2\\.venv\\lib\\site-packages (from markdown>=2.6.8->tensorboard<2.19,>=2.18->tensorflow-intel==2.18.0->tensorflow) (8.5.0)\n",
      "Requirement already satisfied: MarkupSafe>=2.1.1 in c:\\users\\mfcho\\onedrive\\documents\\data engeneering\\projetpython2\\.venv\\lib\\site-packages (from werkzeug>=1.0.1->tensorboard<2.19,>=2.18->tensorflow-intel==2.18.0->tensorflow) (3.0.2)\n",
      "Requirement already satisfied: markdown-it-py>=2.2.0 in c:\\users\\mfcho\\onedrive\\documents\\data engeneering\\projetpython2\\.venv\\lib\\site-packages (from rich->keras>=3.5.0->tensorflow-intel==2.18.0->tensorflow) (3.0.0)\n",
      "Requirement already satisfied: pygments<3.0.0,>=2.13.0 in c:\\users\\mfcho\\onedrive\\documents\\data engeneering\\projetpython2\\.venv\\lib\\site-packages (from rich->keras>=3.5.0->tensorflow-intel==2.18.0->tensorflow) (2.19.1)\n",
      "Requirement already satisfied: zipp>=3.20 in c:\\users\\mfcho\\onedrive\\documents\\data engeneering\\projetpython2\\.venv\\lib\\site-packages (from importlib-metadata>=4.4->markdown>=2.6.8->tensorboard<2.19,>=2.18->tensorflow-intel==2.18.0->tensorflow) (3.21.0)\n",
      "Requirement already satisfied: mdurl~=0.1 in c:\\users\\mfcho\\onedrive\\documents\\data engeneering\\projetpython2\\.venv\\lib\\site-packages (from markdown-it-py>=2.2.0->rich->keras>=3.5.0->tensorflow-intel==2.18.0->tensorflow) (0.1.2)\n",
      "Note: you may need to restart the kernel to use updated packages.\n"
     ]
    }
   ],
   "source": [
    "pip install tensorflow"
   ]
  },
  {
   "cell_type": "code",
   "execution_count": 45,
   "id": "ad2c6619",
   "metadata": {},
   "outputs": [
    {
     "name": "stdout",
     "output_type": "stream",
     "text": [
      "Epoch 1/50\n"
     ]
    },
    {
     "name": "stderr",
     "output_type": "stream",
     "text": [
      "c:\\Users\\mfcho\\OneDrive\\Documents\\Data Engeneering\\projetpython2\\.venv\\lib\\site-packages\\keras\\src\\layers\\core\\dense.py:87: UserWarning: Do not pass an `input_shape`/`input_dim` argument to a layer. When using Sequential models, prefer using an `Input(shape)` object as the first layer in the model instead.\n",
      "  super().__init__(activity_regularizer=activity_regularizer, **kwargs)\n"
     ]
    },
    {
     "name": "stdout",
     "output_type": "stream",
     "text": [
      "\u001b[1m95098/95098\u001b[0m \u001b[32m━━━━━━━━━━━━━━━━━━━━\u001b[0m\u001b[37m\u001b[0m \u001b[1m183s\u001b[0m 2ms/step - loss: 33574042468352.0000 - mae: 795338.3125 - val_loss: 31051556585472.0000 - val_mae: 933958.3750\n",
      "Epoch 2/50\n",
      "\u001b[1m95098/95098\u001b[0m \u001b[32m━━━━━━━━━━━━━━━━━━━━\u001b[0m\u001b[37m\u001b[0m \u001b[1m312s\u001b[0m 3ms/step - loss: 36348538912768.0000 - mae: 931282.3125 - val_loss: 31049144860672.0000 - val_mae: 925612.9375\n",
      "Epoch 3/50\n",
      "\u001b[1m95098/95098\u001b[0m \u001b[32m━━━━━━━━━━━━━━━━━━━━\u001b[0m\u001b[37m\u001b[0m \u001b[1m499s\u001b[0m 5ms/step - loss: 35566750007296.0000 - mae: 930340.6875 - val_loss: 31046569558016.0000 - val_mae: 935832.0625\n",
      "Epoch 4/50\n",
      "\u001b[1m95098/95098\u001b[0m \u001b[32m━━━━━━━━━━━━━━━━━━━━\u001b[0m\u001b[37m\u001b[0m \u001b[1m516s\u001b[0m 5ms/step - loss: 33630202101760.0000 - mae: 922926.0000 - val_loss: 31044396908544.0000 - val_mae: 924857.1250\n",
      "Epoch 5/50\n",
      "\u001b[1m95098/95098\u001b[0m \u001b[32m━━━━━━━━━━━━━━━━━━━━\u001b[0m\u001b[37m\u001b[0m \u001b[1m465s\u001b[0m 5ms/step - loss: 31483131592704.0000 - mae: 920486.3750 - val_loss: 31042085847040.0000 - val_mae: 933283.6250\n",
      "Epoch 6/50\n",
      "\u001b[1m95098/95098\u001b[0m \u001b[32m━━━━━━━━━━━━━━━━━━━━\u001b[0m\u001b[37m\u001b[0m \u001b[1m549s\u001b[0m 6ms/step - loss: 38563768958976.0000 - mae: 939266.8125 - val_loss: 31040001277952.0000 - val_mae: 934020.0625\n",
      "Epoch 7/50\n",
      "\u001b[1m95098/95098\u001b[0m \u001b[32m━━━━━━━━━━━━━━━━━━━━\u001b[0m\u001b[37m\u001b[0m \u001b[1m420s\u001b[0m 4ms/step - loss: 36336769695744.0000 - mae: 933623.0625 - val_loss: 31038189338624.0000 - val_mae: 934366.0000\n",
      "Epoch 8/50\n",
      "\u001b[1m95098/95098\u001b[0m \u001b[32m━━━━━━━━━━━━━━━━━━━━\u001b[0m\u001b[37m\u001b[0m \u001b[1m427s\u001b[0m 4ms/step - loss: 34999912890368.0000 - mae: 927210.5625 - val_loss: 31036679389184.0000 - val_mae: 940493.7500\n",
      "Epoch 9/50\n",
      "\u001b[1m95098/95098\u001b[0m \u001b[32m━━━━━━━━━━━━━━━━━━━━\u001b[0m\u001b[37m\u001b[0m \u001b[1m519s\u001b[0m 5ms/step - loss: 34544948346880.0000 - mae: 936124.3125 - val_loss: 31035165245440.0000 - val_mae: 940517.5625\n",
      "Epoch 10/50\n",
      "\u001b[1m95098/95098\u001b[0m \u001b[32m━━━━━━━━━━━━━━━━━━━━\u001b[0m\u001b[37m\u001b[0m \u001b[1m398s\u001b[0m 4ms/step - loss: 35352064557056.0000 - mae: 931919.0625 - val_loss: 31033814679552.0000 - val_mae: 935795.6250\n",
      "Epoch 11/50\n",
      "\u001b[1m95098/95098\u001b[0m \u001b[32m━━━━━━━━━━━━━━━━━━━━\u001b[0m\u001b[37m\u001b[0m \u001b[1m1881s\u001b[0m 20ms/step - loss: 33809420517376.0000 - mae: 928770.3750 - val_loss: 31032713674752.0000 - val_mae: 929740.6250\n",
      "Epoch 12/50\n",
      "\u001b[1m95098/95098\u001b[0m \u001b[32m━━━━━━━━━━━━━━━━━━━━\u001b[0m\u001b[37m\u001b[0m \u001b[1m457s\u001b[0m 5ms/step - loss: 39133825204224.0000 - mae: 941725.0000 - val_loss: 31031560241152.0000 - val_mae: 931601.1875\n",
      "Epoch 13/50\n",
      "\u001b[1m95098/95098\u001b[0m \u001b[32m━━━━━━━━━━━━━━━━━━━━\u001b[0m\u001b[37m\u001b[0m \u001b[1m361s\u001b[0m 4ms/step - loss: 35542972497920.0000 - mae: 929222.7500 - val_loss: 31030578774016.0000 - val_mae: 943283.0625\n",
      "Epoch 14/50\n",
      "\u001b[1m95098/95098\u001b[0m \u001b[32m━━━━━━━━━━━━━━━━━━━━\u001b[0m\u001b[37m\u001b[0m \u001b[1m378s\u001b[0m 4ms/step - loss: 35956971274240.0000 - mae: 935706.3125 - val_loss: 31029718941696.0000 - val_mae: 925861.0625\n",
      "Epoch 15/50\n",
      "\u001b[1m95098/95098\u001b[0m \u001b[32m━━━━━━━━━━━━━━━━━━━━\u001b[0m\u001b[37m\u001b[0m \u001b[1m408s\u001b[0m 4ms/step - loss: 32102303137792.0000 - mae: 922773.6250 - val_loss: 31028563410944.0000 - val_mae: 948863.0000\n",
      "Epoch 16/50\n",
      "\u001b[1m95098/95098\u001b[0m \u001b[32m━━━━━━━━━━━━━━━━━━━━\u001b[0m\u001b[37m\u001b[0m \u001b[1m380s\u001b[0m 4ms/step - loss: 33529807241216.0000 - mae: 942747.0000 - val_loss: 31027552583680.0000 - val_mae: 932656.6250\n",
      "Epoch 17/50\n",
      "\u001b[1m95098/95098\u001b[0m \u001b[32m━━━━━━━━━━━━━━━━━━━━\u001b[0m\u001b[37m\u001b[0m \u001b[1m416s\u001b[0m 4ms/step - loss: 34763672911872.0000 - mae: 931697.8750 - val_loss: 31026699042816.0000 - val_mae: 931475.4375\n",
      "Epoch 18/50\n",
      "\u001b[1m95098/95098\u001b[0m \u001b[32m━━━━━━━━━━━━━━━━━━━━\u001b[0m\u001b[37m\u001b[0m \u001b[1m551s\u001b[0m 6ms/step - loss: 34947490381824.0000 - mae: 930462.5000 - val_loss: 31025581260800.0000 - val_mae: 934961.3125\n",
      "Epoch 19/50\n",
      "\u001b[1m95098/95098\u001b[0m \u001b[32m━━━━━━━━━━━━━━━━━━━━\u001b[0m\u001b[37m\u001b[0m \u001b[1m365s\u001b[0m 4ms/step - loss: 39851525144576.0000 - mae: 935057.8750 - val_loss: 31024541073408.0000 - val_mae: 939013.8750\n",
      "Epoch 20/50\n",
      "\u001b[1m95098/95098\u001b[0m \u001b[32m━━━━━━━━━━━━━━━━━━━━\u001b[0m\u001b[37m\u001b[0m \u001b[1m529s\u001b[0m 5ms/step - loss: 33894858489856.0000 - mae: 933987.6250 - val_loss: 31023473623040.0000 - val_mae: 942362.0000\n",
      "Epoch 21/50\n",
      "\u001b[1m95098/95098\u001b[0m \u001b[32m━━━━━━━━━━━━━━━━━━━━\u001b[0m\u001b[37m\u001b[0m \u001b[1m332s\u001b[0m 3ms/step - loss: 36962920562688.0000 - mae: 935246.0625 - val_loss: 31022305509376.0000 - val_mae: 935894.6250\n",
      "Epoch 22/50\n",
      "\u001b[1m95098/95098\u001b[0m \u001b[32m━━━━━━━━━━━━━━━━━━━━\u001b[0m\u001b[37m\u001b[0m \u001b[1m316s\u001b[0m 3ms/step - loss: 34005254668288.0000 - mae: 926586.3750 - val_loss: 31020975915008.0000 - val_mae: 937604.3750\n",
      "Epoch 23/50\n",
      "\u001b[1m95098/95098\u001b[0m \u001b[32m━━━━━━━━━━━━━━━━━━━━\u001b[0m\u001b[37m\u001b[0m \u001b[1m331s\u001b[0m 3ms/step - loss: 35099527610368.0000 - mae: 930449.5625 - val_loss: 31019516297216.0000 - val_mae: 940908.0000\n",
      "Epoch 24/50\n",
      "\u001b[1m95098/95098\u001b[0m \u001b[32m━━━━━━━━━━━━━━━━━━━━\u001b[0m\u001b[37m\u001b[0m \u001b[1m332s\u001b[0m 3ms/step - loss: 35325539778560.0000 - mae: 933178.3125 - val_loss: 31018471915520.0000 - val_mae: 926768.5625\n",
      "Epoch 25/50\n",
      "\u001b[1m95098/95098\u001b[0m \u001b[32m━━━━━━━━━━━━━━━━━━━━\u001b[0m\u001b[37m\u001b[0m \u001b[1m319s\u001b[0m 3ms/step - loss: 34467731210240.0000 - mae: 922659.2500 - val_loss: 31016863399936.0000 - val_mae: 929721.0625\n",
      "Epoch 26/50\n",
      "\u001b[1m95098/95098\u001b[0m \u001b[32m━━━━━━━━━━━━━━━━━━━━\u001b[0m\u001b[37m\u001b[0m \u001b[1m343s\u001b[0m 4ms/step - loss: 35760614932480.0000 - mae: 933428.3125 - val_loss: 31015208747008.0000 - val_mae: 942559.4375\n",
      "Epoch 27/50\n",
      "\u001b[1m95098/95098\u001b[0m \u001b[32m━━━━━━━━━━━━━━━━━━━━\u001b[0m\u001b[37m\u001b[0m \u001b[1m318s\u001b[0m 3ms/step - loss: 34892809240576.0000 - mae: 935778.7500 - val_loss: 31013520539648.0000 - val_mae: 927060.0625\n",
      "Epoch 28/50\n",
      "\u001b[1m95098/95098\u001b[0m \u001b[32m━━━━━━━━━━━━━━━━━━━━\u001b[0m\u001b[37m\u001b[0m \u001b[1m321s\u001b[0m 3ms/step - loss: 32862548000768.0000 - mae: 919812.1250 - val_loss: 31011685531648.0000 - val_mae: 946555.1875\n",
      "Epoch 29/50\n",
      "\u001b[1m95098/95098\u001b[0m \u001b[32m━━━━━━━━━━━━━━━━━━━━\u001b[0m\u001b[37m\u001b[0m \u001b[1m312s\u001b[0m 3ms/step - loss: 35729501585408.0000 - mae: 934128.0000 - val_loss: 31009353498624.0000 - val_mae: 933600.3750\n",
      "Epoch 30/50\n",
      "\u001b[1m95098/95098\u001b[0m \u001b[32m━━━━━━━━━━━━━━━━━━━━\u001b[0m\u001b[37m\u001b[0m \u001b[1m319s\u001b[0m 3ms/step - loss: 37956081418240.0000 - mae: 929132.1875 - val_loss: 31007497519104.0000 - val_mae: 943216.6250\n",
      "Epoch 31/50\n",
      "\u001b[1m95098/95098\u001b[0m \u001b[32m━━━━━━━━━━━━━━━━━━━━\u001b[0m\u001b[37m\u001b[0m \u001b[1m267s\u001b[0m 3ms/step - loss: 34077868556288.0000 - mae: 924166.5625 - val_loss: 31005041754112.0000 - val_mae: 941714.0000\n",
      "Epoch 32/50\n",
      "\u001b[1m95098/95098\u001b[0m \u001b[32m━━━━━━━━━━━━━━━━━━━━\u001b[0m\u001b[37m\u001b[0m \u001b[1m158s\u001b[0m 2ms/step - loss: 36008800288768.0000 - mae: 934375.8125 - val_loss: 31002271416320.0000 - val_mae: 936838.5625\n",
      "Epoch 33/50\n",
      "\u001b[1m95098/95098\u001b[0m \u001b[32m━━━━━━━━━━━━━━━━━━━━\u001b[0m\u001b[37m\u001b[0m \u001b[1m162s\u001b[0m 2ms/step - loss: 34475471798272.0000 - mae: 930140.1875 - val_loss: 31000321064960.0000 - val_mae: 914723.4375\n",
      "Epoch 34/50\n",
      "\u001b[1m95098/95098\u001b[0m \u001b[32m━━━━━━━━━━━━━━━━━━━━\u001b[0m\u001b[37m\u001b[0m \u001b[1m149s\u001b[0m 2ms/step - loss: 33991266664448.0000 - mae: 923141.3750 - val_loss: 30996634271744.0000 - val_mae: 934814.5625\n",
      "Epoch 35/50\n",
      "\u001b[1m95098/95098\u001b[0m \u001b[32m━━━━━━━━━━━━━━━━━━━━\u001b[0m\u001b[37m\u001b[0m \u001b[1m152s\u001b[0m 2ms/step - loss: 34258278154240.0000 - mae: 927677.0000 - val_loss: 30993985568768.0000 - val_mae: 930548.3750\n",
      "Epoch 36/50\n",
      "\u001b[1m95098/95098\u001b[0m \u001b[32m━━━━━━━━━━━━━━━━━━━━\u001b[0m\u001b[37m\u001b[0m \u001b[1m151s\u001b[0m 2ms/step - loss: 32219320025088.0000 - mae: 920231.3125 - val_loss: 30991259271168.0000 - val_mae: 921523.6875\n",
      "Epoch 37/50\n",
      "\u001b[1m95098/95098\u001b[0m \u001b[32m━━━━━━━━━━━━━━━━━━━━\u001b[0m\u001b[37m\u001b[0m \u001b[1m153s\u001b[0m 2ms/step - loss: 35785172582400.0000 - mae: 937222.8125 - val_loss: 30988019171328.0000 - val_mae: 930341.9375\n",
      "Epoch 38/50\n",
      "\u001b[1m95098/95098\u001b[0m \u001b[32m━━━━━━━━━━━━━━━━━━━━\u001b[0m\u001b[37m\u001b[0m \u001b[1m150s\u001b[0m 2ms/step - loss: 36010616422400.0000 - mae: 936566.8750 - val_loss: 30984676311040.0000 - val_mae: 933875.7500\n",
      "Epoch 39/50\n",
      "\u001b[1m95098/95098\u001b[0m \u001b[32m━━━━━━━━━━━━━━━━━━━━\u001b[0m\u001b[37m\u001b[0m \u001b[1m151s\u001b[0m 2ms/step - loss: 34023476822016.0000 - mae: 926722.6250 - val_loss: 30981434114048.0000 - val_mae: 938793.5000\n",
      "Epoch 40/50\n",
      "\u001b[1m95098/95098\u001b[0m \u001b[32m━━━━━━━━━━━━━━━━━━━━\u001b[0m\u001b[37m\u001b[0m \u001b[1m149s\u001b[0m 2ms/step - loss: 35741438574592.0000 - mae: 933775.6250 - val_loss: 30977942355968.0000 - val_mae: 928115.6875\n",
      "Epoch 41/50\n",
      "\u001b[1m95098/95098\u001b[0m \u001b[32m━━━━━━━━━━━━━━━━━━━━\u001b[0m\u001b[37m\u001b[0m \u001b[1m150s\u001b[0m 2ms/step - loss: 33217346273280.0000 - mae: 924793.6250 - val_loss: 30974352031744.0000 - val_mae: 929310.6875\n",
      "Epoch 42/50\n",
      "\u001b[1m95098/95098\u001b[0m \u001b[32m━━━━━━━━━━━━━━━━━━━━\u001b[0m\u001b[37m\u001b[0m \u001b[1m150s\u001b[0m 2ms/step - loss: 37127765098496.0000 - mae: 931450.8125 - val_loss: 30971036434432.0000 - val_mae: 924219.7500\n",
      "Epoch 43/50\n",
      "\u001b[1m95098/95098\u001b[0m \u001b[32m━━━━━━━━━━━━━━━━━━━━\u001b[0m\u001b[37m\u001b[0m \u001b[1m153s\u001b[0m 2ms/step - loss: 37307960786944.0000 - mae: 936825.3125 - val_loss: 30970126270464.0000 - val_mae: 890773.3125\n",
      "Epoch 44/50\n",
      "\u001b[1m95098/95098\u001b[0m \u001b[32m━━━━━━━━━━━━━━━━━━━━\u001b[0m\u001b[37m\u001b[0m \u001b[1m151s\u001b[0m 2ms/step - loss: 35578074628096.0000 - mae: 923591.9375 - val_loss: 30964048723968.0000 - val_mae: 914961.3125\n",
      "Epoch 45/50\n",
      "\u001b[1m95098/95098\u001b[0m \u001b[32m━━━━━━━━━━━━━━━━━━━━\u001b[0m\u001b[37m\u001b[0m \u001b[1m150s\u001b[0m 2ms/step - loss: 36077444268032.0000 - mae: 927728.6250 - val_loss: 30960556965888.0000 - val_mae: 939457.6875\n",
      "Epoch 46/50\n",
      "\u001b[1m95098/95098\u001b[0m \u001b[32m━━━━━━━━━━━━━━━━━━━━\u001b[0m\u001b[37m\u001b[0m \u001b[1m161s\u001b[0m 2ms/step - loss: 34503923859456.0000 - mae: 921740.7500 - val_loss: 30956868075520.0000 - val_mae: 949749.3125\n",
      "Epoch 47/50\n",
      "\u001b[1m95098/95098\u001b[0m \u001b[32m━━━━━━━━━━━━━━━━━━━━\u001b[0m\u001b[37m\u001b[0m \u001b[1m153s\u001b[0m 2ms/step - loss: 34729063612416.0000 - mae: 927043.5000 - val_loss: 30952833155072.0000 - val_mae: 931911.0000\n",
      "Epoch 48/50\n",
      "\u001b[1m95098/95098\u001b[0m \u001b[32m━━━━━━━━━━━━━━━━━━━━\u001b[0m\u001b[37m\u001b[0m \u001b[1m151s\u001b[0m 2ms/step - loss: 35249740316672.0000 - mae: 924526.2500 - val_loss: 30949129584640.0000 - val_mae: 927013.3750\n",
      "Epoch 49/50\n",
      "\u001b[1m95098/95098\u001b[0m \u001b[32m━━━━━━━━━━━━━━━━━━━━\u001b[0m\u001b[37m\u001b[0m \u001b[1m151s\u001b[0m 2ms/step - loss: 37577646145536.0000 - mae: 937983.9375 - val_loss: 30946822717440.0000 - val_mae: 953844.0625\n",
      "Epoch 50/50\n",
      "\u001b[1m95098/95098\u001b[0m \u001b[32m━━━━━━━━━━━━━━━━━━━━\u001b[0m\u001b[37m\u001b[0m \u001b[1m150s\u001b[0m 2ms/step - loss: 37742029307904.0000 - mae: 936683.1875 - val_loss: 30942892654592.0000 - val_mae: 916787.3125\n"
     ]
    }
   ],
   "source": [
    "from tensorflow.keras.models import Sequential\n",
    "from tensorflow.keras.layers import Dense\n",
    "\n",
    "# Définir le modèle\n",
    "model_nn = Sequential([\n",
    "    Dense(64, activation='relu', input_shape=(X_train.shape[1],)),\n",
    "    Dense(32, activation='relu'),\n",
    "    Dense(1)  # Couche de sortie pour la prédiction\n",
    "])\n",
    "\n",
    "# Compiler le modèle\n",
    "model_nn.compile(optimizer='adam', loss='mse', metrics=['mae'])\n",
    "\n",
    "# Entraîner le modèle\n",
    "history = model_nn.fit(X_train, y_train, validation_data=(X_test, y_test), epochs=50, batch_size=32, verbose=1)\n"
   ]
  },
  {
   "cell_type": "code",
   "execution_count": 55,
   "id": "f5d734e3",
   "metadata": {},
   "outputs": [
    {
     "name": "stdout",
     "output_type": "stream",
     "text": [
      "MSE: 39305231611151.66\n",
      "RMSE: 6269388.455914313\n",
      "MAE: 938375.6608922073\n",
      "R2 Score: 0.0009173431332136772\n"
     ]
    }
   ],
   "source": [
    "# Évaluation\n",
    "from sklearn.metrics import mean_squared_error, mean_absolute_error, r2_score\n",
    "\n",
    "# Prédiction sur l'ensemble de test\n",
    "y_pred = model.predict(X_test_final)\n",
    "\n",
    "# Calcul des métriques\n",
    "mse = mean_squared_error(y_test_final, y_pred)\n",
    "rmse = mean_squared_error(y_test_final, y_pred, squared=False)\n",
    "mae = mean_absolute_error(y_test_final, y_pred)\n",
    "r2 = r2_score(y_test_final, y_pred)\n",
    "\n",
    "print(f\"MSE: {mse}\")\n",
    "print(f\"RMSE: {rmse}\")\n",
    "print(f\"MAE: {mae}\")\n",
    "print(f\"R2 Score: {r2}\")\n"
   ]
  },
  {
   "cell_type": "code",
   "execution_count": 56,
   "id": "771dd7c1",
   "metadata": {},
   "outputs": [
    {
     "data": {
      "image/png": "[encoded data removed]",
      "text/plain": [
       "<Figure size 640x480 with 1 Axes>"
      ]
     },
     "metadata": {},
     "output_type": "display_data"
    }
   ],
   "source": [
    "#Visualisation des performances\n",
    "import matplotlib.pyplot as plt\n",
    "\n",
    "# Courbe de perte\n",
    "plt.plot(history.history['loss'], label='Train Loss')\n",
    "plt.plot(history.history['val_loss'], label='Validation Loss')\n",
    "plt.xlabel('Épochs')\n",
    "plt.ylabel('Loss')\n",
    "plt.legend()\n",
    "plt.title('Progression de la Perte')\n",
    "plt.show()\n"
   ]
  },
  {
   "cell_type": "code",
   "execution_count": 57,
   "id": "ca60092c",
   "metadata": {},
   "outputs": [
    {
     "name": "stderr",
     "output_type": "stream",
     "text": [
      "c:\\Users\\mfcho\\OneDrive\\Documents\\Data Engeneering\\projetpython2\\.venv\\lib\\site-packages\\sklearn\\base.py:450: UserWarning: X does not have valid feature names, but LinearRegression was fitted with feature names\n",
      "  warnings.warn(\n"
     ]
    },
    {
     "data": {
      "image/png": "[encoded data removed]",
      "text/plain": [
       "<Figure size 800x800 with 1 Axes>"
      ]
     },
     "metadata": {},
     "output_type": "display_data"
    }
   ],
   "source": [
    "# Prédictions\n",
    "y_pred = model.predict(X_test)\n",
    "\n",
    "# Visualisation des prédictions vs valeurs réelles\n",
    "plt.figure(figsize=(8, 8))\n",
    "plt.scatter(y_test, y_pred, alpha=0.3, label=\"Prédictions\", color='blue')\n",
    "plt.plot([min(y_test), max(y_test)], [min(y_test), max(y_test)], color=\"red\", label=\"Ligne idéale (y=x)\")\n",
    "plt.xlabel(\"Valeurs Réelles\")\n",
    "plt.ylabel(\"Prédictions\")\n",
    "plt.title(\"Prédictions vs Valeurs Réelles\")\n",
    "plt.legend()\n",
    "plt.grid(True)\n",
    "plt.show()\n"
   ]
  },
  {
   "cell_type": "markdown",
   "id": "bd3adbc6",
   "metadata": {},
   "source": [
    "# Comparaison des Modèles"
   ]
  },
  {
   "cell_type": "code",
   "execution_count": 52,
   "id": "5368d856",
   "metadata": {},
   "outputs": [
    {
     "name": "stdout",
     "output_type": "stream",
     "text": [
      "\u001b[1m23775/23775\u001b[0m \u001b[32m━━━━━━━━━━━━━━━━━━━━\u001b[0m\u001b[37m\u001b[0m \u001b[1m18s\u001b[0m 757us/step\n",
      "RMSE - XGBoost : 5201493.536835477\n",
      "RMSE - Réseau de Neurones : 5562638.600557442\n"
     ]
    }
   ],
   "source": [
    "from sklearn.metrics import mean_squared_error\n",
    "\n",
    "# Évaluer XGBoost\n",
    "y_pred_xgb = best_model.predict(X_test)\n",
    "rmse_xgb = mean_squared_error(y_test, y_pred_xgb, squared=False)\n",
    "\n",
    "# Évaluer le Réseau de Neurones\n",
    "y_pred_nn = model_nn.predict(X_test).flatten()\n",
    "rmse_nn = mean_squared_error(y_test, y_pred_nn, squared=False)\n",
    "\n",
    "print(f\"RMSE - XGBoost : {rmse_xgb}\")\n",
    "print(f\"RMSE - Réseau de Neurones : {rmse_nn}\")\n"
   ]
  },
  {
   "cell_type": "markdown",
   "id": "cf026784",
   "metadata": {},
   "source": [
    "## Visualisation des Résultats"
   ]
  },
  {
   "cell_type": "code",
   "execution_count": 53,
   "id": "e78fc830",
   "metadata": {},
   "outputs": [
    {
     "data": {
      "image/png": "[encoded data removed]",
      "text/plain": [
       "<Figure size 800x500 with 1 Axes>"
      ]
     },
     "metadata": {},
     "output_type": "display_data"
    }
   ],
   "source": [
    "# Graphique comparatif des RMSE\n",
    "models = ['XGBoost', 'Réseau de Neurones']\n",
    "rmse_values = [rmse_xgb, rmse_nn]\n",
    "\n",
    "plt.figure(figsize=(8, 5))\n",
    "plt.bar(models, rmse_values, color=['blue', 'orange'])\n",
    "plt.title(\"Comparaison des RMSE des Modèles\")\n",
    "plt.ylabel(\"RMSE\")\n",
    "plt.show()\n"
   ]
  },
  {
   "cell_type": "markdown",
   "id": "0dd52fa4",
   "metadata": {},
   "source": []
  }
 ],
 "metadata": {
  "kernelspec": {
   "display_name": ".venv",
   "language": "python",
   "name": "python3"
  },
  "language_info": {
   "codemirror_mode": {
    "name": "ipython",
    "version": 3
   },
   "file_extension": ".py",
   "mimetype": "text/x-python",
   "name": "python",
   "nbconvert_exporter": "python",
   "pygments_lexer": "ipython3",
   "version": "3.9.13"
  }
 },
 "nbformat": 4,
 "nbformat_minor": 5
}
